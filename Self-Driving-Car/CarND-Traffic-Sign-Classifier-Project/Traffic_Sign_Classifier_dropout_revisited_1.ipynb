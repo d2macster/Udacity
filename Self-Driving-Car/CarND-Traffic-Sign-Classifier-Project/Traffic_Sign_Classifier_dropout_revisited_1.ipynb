{
 "cells": [
  {
   "cell_type": "markdown",
   "metadata": {},
   "source": [
    "# Self-Driving Car Engineer Nanodegree\n",
    "\n",
    "## Deep Learning\n",
    "\n",
    "## Project: Build a Traffic Sign Recognition Classifier\n",
    "\n",
    "In this notebook, a template is provided for you to implement your functionality in stages which is required to successfully complete this project. If additional code is required that cannot be included in the notebook, be sure that the Python code is successfully imported and included in your submission, if necessary. Sections that begin with **'Implementation'** in the header indicate where you should begin your implementation for your project. Note that some sections of implementation are optional, and will be marked with **'Optional'** in the header.\n",
    "\n",
    "In addition to implementing code, there will be questions that you must answer which relate to the project and your implementation. Each section where you will answer a question is preceded by a **'Question'** header. Carefully read each question and provide thorough answers in the following text boxes that begin with **'Answer:'**. Your project submission will be evaluated based on your answers to each of the questions and the implementation you provide.\n",
    "\n",
    ">**Note:** Code and Markdown cells can be executed using the **Shift + Enter** keyboard shortcut. In addition, Markdown cells can be edited by typically double-clicking the cell to enter edit mode."
   ]
  },
  {
   "cell_type": "markdown",
   "metadata": {},
   "source": [
    "---\n",
    "## Step 0: Load The Data"
   ]
  },
  {
   "cell_type": "code",
   "execution_count": 1,
   "metadata": {
    "collapsed": false
   },
   "outputs": [],
   "source": [
    "import pickle\n",
    "import matplotlib.pyplot as plt\n",
    "# Visualizations will be shown in the notebook.\n",
    "%matplotlib inline\n",
    "import random\n",
    "from sklearn.utils import shuffle\n",
    "from sklearn.model_selection import train_test_split\n",
    "import cv2\n",
    "import numpy as np\n",
    "import tensorflow as tf\n",
    "from tensorflow.contrib.layers import flatten"
   ]
  },
  {
   "cell_type": "code",
   "execution_count": 2,
   "metadata": {
    "collapsed": false
   },
   "outputs": [],
   "source": [
    "data_prefix = \"/Users/andriicherniak/Desktop/data\"\n",
    "training_file = \"{}/train.p\".format(data_prefix)\n",
    "testing_file = \"{}/test.p\".format(data_prefix)\n",
    "\n",
    "with open(training_file, mode='rb') as f:\n",
    "    train = pickle.load(f)\n",
    "with open(testing_file, mode='rb') as f:\n",
    "    test = pickle.load(f)\n",
    "    \n",
    "X_train, y_train = train['features'], train['labels']\n",
    "X_test, y_test = test['features'], test['labels']"
   ]
  },
  {
   "cell_type": "markdown",
   "metadata": {},
   "source": [
    "---\n",
    "\n",
    "## Step 1: Dataset Summary & Exploration\n",
    "\n",
    "The pickled data is a dictionary with 4 key/value pairs:\n",
    "\n",
    "- `'features'` is a 4D array containing raw pixel data of the traffic sign images, (num examples, width, height, channels).\n",
    "- `'labels'` is a 2D array containing the label/class id of the traffic sign. The file `signnames.csv` contains id -> name mappings for each id.\n",
    "- `'sizes'` is a list containing tuples, (width, height) representing the the original width and height the image.\n",
    "- `'coords'` is a list containing tuples, (x1, y1, x2, y2) representing coordinates of a bounding box around the sign in the image. **THESE COORDINATES ASSUME THE ORIGINAL IMAGE. THE PICKLED DATA CONTAINS RESIZED VERSIONS (32 by 32) OF THESE IMAGES**\n",
    "\n",
    "Complete the basic data summary below."
   ]
  },
  {
   "cell_type": "code",
   "execution_count": 3,
   "metadata": {
    "collapsed": false
   },
   "outputs": [],
   "source": [
    "assert(len(X_train) == len(y_train))\n",
    "assert(len(X_test) == len(y_test))"
   ]
  },
  {
   "cell_type": "code",
   "execution_count": 4,
   "metadata": {
    "collapsed": false
   },
   "outputs": [
    {
     "name": "stdout",
     "output_type": "stream",
     "text": [
      "Number of training examples = 39209\n",
      "Number of testing examples = 12630\n",
      "Image data shape = (32, 32, 3)\n",
      "Number of classes = 43\n"
     ]
    }
   ],
   "source": [
    "### Replace each question mark with the appropriate value.\n",
    "\n",
    "n_train = X_train.shape[0]\n",
    "n_test = X_test.shape[0]\n",
    "image_shape = X_train[0].shape\n",
    "n_classes = len(set(y_train))\n",
    "\n",
    "print(\"Number of training examples =\", n_train)\n",
    "print(\"Number of testing examples =\", n_test)\n",
    "print(\"Image data shape =\", image_shape)\n",
    "print(\"Number of classes =\", n_classes)"
   ]
  },
  {
   "cell_type": "code",
   "execution_count": 19,
   "metadata": {
    "collapsed": false
   },
   "outputs": [
    {
     "name": "stdout",
     "output_type": "stream",
     "text": [
      "{32: (0.006121043637940269, 0.2238915281076801), 40: (0.009181565456910403, 0.22389152810768007), 27: (0.006121043637940269, 0.2238915281076801), 20: (0.009181565456910403, 0.22389152810768007), 41: (0.006121043637940269, 0.2238915281076801)}\n",
      "[0.05738478410569002, 0.05661965365094749, 0.05508939274146242, 0.05355913183197735, 0.05279400137723482]\n"
     ]
    }
   ],
   "source": [
    "## Class imbalance check \n",
    "import itertools\n",
    "def __distribution_summary(labels):\n",
    "    L = len(labels)\n",
    "    ss = sorted(labels)\n",
    "    return {c : 1.0*len(list(cg))/L for c, cg in itertools.groupby(ss)}\n",
    "\n",
    "train_d = __distribution_summary(y_train)\n",
    "test_d = __distribution_summary(y_test)\n",
    "c_diff = {c : (train_d[c], 1.0*abs(train_d[c] - test_d[c])/train_d[c]) for c in train_d.keys()}\n",
    "c_imbalanced = {c : v for c, v in c_diff.items() if v[1] >= 0.2}\n",
    "print(c_imbalanced)\n",
    "\n",
    "# 5 out of 43 classes might be considered imbalanced\n",
    "# however they are barely imbalanced (right at the border to be even considered as such).\n",
    "# In the first approximation we may assume this will not be an issue with test data classification\n",
    "\n",
    "# probability of top5 classes in training set\n",
    "top5_classes_p = sorted([v for c, v in train_d.items()], reverse=True)[0:5]\n",
    "print(top5_classes_p)\n",
    "\n",
    "# the top 5 classes have ~ 6 to 10 times more images than imbalanced classes\n",
    "# In the first approximation we may assume class imbalance will not be an issue with test data classification accuracy\n",
    "# because the total contribution of those classes is small. We should have worried much more if one of top classes\n",
    "# would have been imbalanced"
   ]
  },
  {
   "cell_type": "markdown",
   "metadata": {},
   "source": [
    "Visualize the German Traffic Signs Dataset using the pickled file(s). This is open ended, suggestions include: plotting traffic sign images, plotting the count of each sign, etc.\n",
    "\n",
    "The [Matplotlib](http://matplotlib.org/) [examples](http://matplotlib.org/examples/index.html) and [gallery](http://matplotlib.org/gallery.html) pages are a great resource for doing visualizations in Python.\n",
    "\n",
    "**NOTE:** It's recommended you start with something simple first. If you wish to do more, come back to it after you've completed the rest of the sections."
   ]
  },
  {
   "cell_type": "code",
   "execution_count": 6,
   "metadata": {
    "collapsed": false
   },
   "outputs": [
    {
     "name": "stdout",
     "output_type": "stream",
     "text": [
      "2\n"
     ]
    },
    {
     "data": {
      "image/png": "[encoded data removed]",
      "text/plain": [
       "<matplotlib.figure.Figure at 0x7f537bcd6710>"
      ]
     },
     "metadata": {},
     "output_type": "display_data"
    }
   ],
   "source": [
    "### Data exploration visualization goes here.\n",
    "### Feel free to use as many code cells as needed.\n",
    "index = random.randint(0, n_train)\n",
    "image = X_train[index]\n",
    "plt.imshow(image)\n",
    "print(y_train[index])"
   ]
  },
  {
   "cell_type": "code",
   "execution_count": null,
   "metadata": {
    "collapsed": false
   },
   "outputs": [],
   "source": []
  },
  {
   "cell_type": "markdown",
   "metadata": {},
   "source": [
    "----\n",
    "\n",
    "## Step 2: Design and Test a Model Architecture\n",
    "\n",
    "Design and implement a deep learning model that learns to recognize traffic signs. Train and test your model on the [German Traffic Sign Dataset](http://benchmark.ini.rub.de/?section=gtsrb&subsection=dataset).\n",
    "\n",
    "There are various aspects to consider when thinking about this problem:\n",
    "\n",
    "- Neural network architecture\n",
    "- Play around preprocessing techniques (normalization, rgb to grayscale, etc)\n",
    "- Number of examples per label (some have more than others).\n",
    "- Generate fake data.\n",
    "\n",
    "Here is an example of a [published baseline model on this problem](http://yann.lecun.com/exdb/publis/pdf/sermanet-ijcnn-11.pdf). It's not required to be familiar with the approach used in the paper but, it's good practice to try to read papers like these.\n",
    "\n",
    "**NOTE:** The LeNet-5 implementation shown in the [classroom](https://classroom.udacity.com/nanodegrees/nd013/parts/fbf77062-5703-404e-b60c-95b78b2f3f9e/modules/6df7ae49-c61c-4bb2-a23e-6527e69209ec/lessons/601ae704-1035-4287-8b11-e2c2716217ad/concepts/d4aca031-508f-4e0b-b493-e7b706120f81) at the end of the CNN lesson is a solid starting point. You'll have to change the number of classes and possibly the preprocessing, but aside from that it's plug and play!"
   ]
  },
  {
   "cell_type": "markdown",
   "metadata": {},
   "source": [
    "### Implementation\n",
    "\n",
    "Use the code cell (or multiple code cells, if necessary) to implement the first step of your project. Once you have completed your implementation and are satisfied with the results, be sure to thoroughly answer the questions that follow."
   ]
  },
  {
   "cell_type": "code",
   "execution_count": 143,
   "metadata": {
    "collapsed": true
   },
   "outputs": [],
   "source": []
  },
  {
   "cell_type": "code",
   "execution_count": 75,
   "metadata": {
    "collapsed": true
   },
   "outputs": [],
   "source": [
    "def image_normalizer(image):\n",
    "    lab= cv2.cvtColor(image, cv2.COLOR_RGB2LAB)\n",
    "    l, a, b = cv2.split(lab)\n",
    "\n",
    "    clahe = cv2.createCLAHE(clipLimit=3.0, tileGridSize=(4, 4))\n",
    "    cl = clahe.apply(l)\n",
    "\n",
    "    limg = cv2.merge((cl,a,b))\n",
    "    img_bgr = cv2.cvtColor(limg, cv2.COLOR_LAB2BGR)\n",
    "    img_rgb = cv2.cvtColor(img_bgr, cv2.COLOR_BGR2RGB)\n",
    "\n",
    "    img_bf = cv2.bilateralFilter(img_rgb, 9,20,20)\n",
    "    return img_bf"
   ]
  },
  {
   "cell_type": "code",
   "execution_count": 76,
   "metadata": {
    "collapsed": false
   },
   "outputs": [],
   "source": [
    "def image_warp(img, pts_from):\n",
    "    pts_to = np.float32([[0,0],[32,0],[0,32],[32,32]])\n",
    "    M = cv2.getPerspectiveTransform(pts_from,pts_to)\n",
    "    dst = cv2.warpPerspective(img,M,(32,32))\n",
    "    return dst"
   ]
  },
  {
   "cell_type": "code",
   "execution_count": 77,
   "metadata": {
    "collapsed": true
   },
   "outputs": [],
   "source": [
    "delta = 5\n",
    "delta_r = 5\n",
    "pts_1 = np.float32([\n",
    "    [delta,delta],\n",
    "    [image_shape[0]-delta,delta],\n",
    "    [delta,image_shape[1]-delta],\n",
    "    [image_shape[0]-delta,image_shape[1]-delta]\n",
    "])\n",
    "pts_2 = np.float32([\n",
    "    [-delta,-delta],\n",
    "    [image_shape[0]+delta,-delta],\n",
    "    [-delta,image_shape[1]+delta],\n",
    "    [image_shape[0]+delta,image_shape[1]+delta]\n",
    "])\n",
    "pts_3 = np.float32([\n",
    "    [delta_r,0],\n",
    "    [image_shape[0],delta_r],\n",
    "    [0,image_shape[1]-delta_r],\n",
    "    [image_shape[0]-delta_r,image_shape[1]]\n",
    "])\n",
    "pts_4 = np.float32([\n",
    "    [0, delta_r],\n",
    "    [image_shape[0] - delta_r, 0],\n",
    "    [delta_r, image_shape[1]],\n",
    "    [image_shape[0],image_shape[1]-delta_r]\n",
    "])"
   ]
  },
  {
   "cell_type": "code",
   "execution_count": 78,
   "metadata": {
    "collapsed": true
   },
   "outputs": [],
   "source": [
    "def image_normalizer_grey(image):\n",
    "    img = cv2.cvtColor(image, cv2.COLOR_RGB2GRAY)\n",
    "    clahe = cv2.createCLAHE(clipLimit=2.0, tileGridSize=(8,8))\n",
    "    img = clahe.apply(img)\n",
    "        \n",
    "    img_grey = np.zeros(image_shape, dtype=int)\n",
    "    img_grey[:,:,0] = img\n",
    "    img_grey[:,:,1] = img\n",
    "    img_grey[:,:,2] = img\n",
    "    return img_grey"
   ]
  },
  {
   "cell_type": "code",
   "execution_count": 11,
   "metadata": {
    "collapsed": false,
    "scrolled": false
   },
   "outputs": [
    {
     "name": "stdout",
     "output_type": "stream",
     "text": [
      "34821\n"
     ]
    },
    {
     "data": {
      "image/png": "[encoded data removed]",
      "text/plain": [
       "<matplotlib.figure.Figure at 0x7f537bcd6780>"
      ]
     },
     "metadata": {},
     "output_type": "display_data"
    }
   ],
   "source": [
    "### Preprocess the data here.\n",
    "### Feel free to use as many code cells as needed.\n",
    "def random_plot(X):\n",
    "    index = random.randint(0, len(X))\n",
    "    print(index)\n",
    "    image = X[index]\n",
    "    img = image_normalizer(image)\n",
    "    \n",
    "\n",
    "    f, (ax1, ax2, ax3, ax4, ax5, ax6) = plt.subplots(1, 6)\n",
    "    ax1.imshow(image)\n",
    "    ax2.imshow(img)\n",
    "\n",
    "    ax3.imshow(image_normalizer(image_warp(img=image, pts_from=pts_1)))\n",
    "    ax4.imshow(image_normalizer(image_warp(img=image, pts_from=pts_2)))\n",
    "    ax5.imshow(image_normalizer(image_warp(img=image, pts_from=pts_3)))\n",
    "    ax6.imshow(image_normalizer(image_warp(img=image, pts_from=pts_4)))\n",
    "\n",
    "\n",
    "random_plot(X_train)"
   ]
  },
  {
   "cell_type": "markdown",
   "metadata": {},
   "source": [
    "### Question 1 \n",
    "\n",
    "_Describe how you preprocessed the data. Why did you choose that technique?_"
   ]
  },
  {
   "cell_type": "markdown",
   "metadata": {},
   "source": [
    "**Answer:**"
   ]
  },
  {
   "cell_type": "markdown",
   "metadata": {},
   "source": [
    "1. The final training data set consists of preprocessed (original training + convolved) images\n",
    "2. The final test data set consists of preprocessed test images\n",
    "3. Convolved images include scaling up and down, and left and right image rotation for a small (10-15 degrees) angle\n",
    "4. For Image pre-processing createCLAHE helper funcion was used on color images. After visual exploration I noticed that images differ dramatically in conditions thye were taken: amout of light, focus / out_of_focus, colors\n",
    "5. I use Contrast Limited Adaptive Histogram Equalization (CLANE)  instead of histogram equalization, because it normalizes image locally , not globally ( like histogram equalization would do). CLANE preserves / amplifies important local image features, supresses local noice due to contrast limiting\n",
    "6. I tried CLANE for both grayscale and color images. CLANE on color images provided better results\n",
    "7. Input: image (32*32*3), output: CLANE(image (32*32*3))"
   ]
  },
  {
   "cell_type": "code",
   "execution_count": 11,
   "metadata": {
    "collapsed": true
   },
   "outputs": [],
   "source": [
    "### Generate data additional data (OPTIONAL!)\n",
    "### and split the data into training/validation/testing sets here.\n",
    "### Feel free to use as many code cells as needed.\n"
   ]
  },
  {
   "cell_type": "code",
   "execution_count": 79,
   "metadata": {
    "collapsed": true
   },
   "outputs": [],
   "source": [
    "def __set_augmenter(X, y):\n",
    "    \"\"\"generates additional distorted data\n",
    "    via image_warp helper function\n",
    "    pts_i - specifies the transform \n",
    "    \"\"\"\n",
    "    N = 5\n",
    "    x_shape = X.shape\n",
    "    y_shape = y.shape\n",
    "    x_shape = (N*x_shape[0], x_shape[1], x_shape[2], x_shape[3])\n",
    "    y_shape = (N*y_shape[0])\n",
    "    XA = np.zeros(x_shape)\n",
    "    YA = np.zeros(y_shape)\n",
    "    \n",
    "    for i in range(0, X.shape[0]):\n",
    "        img1 = image_warp(img=X[i], pts_from=pts_1)\n",
    "        img2 = image_warp(img=X[i], pts_from=pts_2)\n",
    "        img3 = image_warp(img=X[i], pts_from=pts_3)\n",
    "        img4 = image_warp(img=X[i], pts_from=pts_4)\n",
    "        \n",
    "        XA[N*i] = image_normalizer(X[i])\n",
    "        XA[N*i + 1] = image_normalizer(img1)\n",
    "        XA[N*i + 2] = image_normalizer(img2)\n",
    "        XA[N*i + 3] = image_normalizer(img3)\n",
    "        XA[N*i + 4] = image_normalizer(img4)\n",
    "        \n",
    "        YA[N*i] = y[i]\n",
    "        YA[N*i + 1] = y[i]\n",
    "        YA[N*i + 2] = y[i]\n",
    "        YA[N*i + 3] = y[i]\n",
    "        YA[N*i + 4] = y[i]\n",
    "    return XA, YA\n",
    "\n",
    "def __set_normalizer(X):\n",
    "    XN = np.zeros(X.shape, dtype=object)\n",
    "    for i in range(0, X.shape[0]):\n",
    "        XN[i] = image_normalizer(X[i])\n",
    "    return XN"
   ]
  },
  {
   "cell_type": "code",
   "execution_count": null,
   "metadata": {
    "collapsed": true
   },
   "outputs": [],
   "source": [
    "X_train, y_train = __set_augmenter(X_train, y_train)\n",
    "X_test = __set_normalizer(X_test)"
   ]
  },
  {
   "cell_type": "code",
   "execution_count": 13,
   "metadata": {
    "collapsed": true
   },
   "outputs": [],
   "source": [
    "X_train, y_train = shuffle(X_train, y_train)\n",
    "\n",
    "XX_train, XX_validation, yy_train, yy_validation = train_test_split(\n",
    "    X_train, y_train, test_size=0.2)"
   ]
  },
  {
   "cell_type": "markdown",
   "metadata": {},
   "source": [
    "### Question 2\n",
    "\n",
    "_Describe how you set up the training, validation and testing data for your model. **Optional**: If you generated additional data, how did you generate the data? Why did you generate the data? What are the differences in the new dataset (with generated data) from the original dataset?_"
   ]
  },
  {
   "cell_type": "markdown",
   "metadata": {},
   "source": [
    "**Answer:**"
   ]
  },
  {
   "cell_type": "markdown",
   "metadata": {},
   "source": [
    "Each image in training and test set was pre-procesed using adaptive histogram equalization. I tried both Histograms Equalization and adaptive histogram equalization. The latter one works much better, because it helps to adjust contrast in smaller areas of the image which might be as important as the rest of the image.\n",
    "In addition, for each original training image, I added 4 more transformed images: scaled up and scaled down and rotated clock-wise and counter-clockwise . Each of these transformed images was processed with adaptive histogram equalization as well. \n",
    "\n",
    "I noticed that validation and test accuracy was going up as i started to add transformed images to the training set. However I was limited in how many trasformations I can perform to the training set, because I would het memory problem during learning. Thus i was able to add only those 4 transforms to the training data set."
   ]
  },
  {
   "cell_type": "code",
   "execution_count": 89,
   "metadata": {
    "collapsed": true
   },
   "outputs": [],
   "source": [
    "### Define your architecture here.\n",
    "### Feel free to use as many code cells as needed.\n",
    "\n",
    "EPOCHS = 60\n",
    "BATCH_SIZE = 128"
   ]
  },
  {
   "cell_type": "code",
   "execution_count": 85,
   "metadata": {
    "collapsed": true
   },
   "outputs": [],
   "source": [
    "def LeNet(x, dropout):    \n",
    "    # Hyperparameters\n",
    "    mu = 0\n",
    "    sigma = 0.1\n",
    "    \n",
    "    conv1_W = tf.Variable(tf.truncated_normal(shape=(5, 5, image_shape[2], 10), mean = mu, stddev = sigma))\n",
    "    conv1_b = tf.Variable(tf.zeros(10))\n",
    "    conv1   = tf.nn.conv2d(x, conv1_W, strides=[1, 1, 1, 1], padding='VALID') + conv1_b\n",
    "    \n",
    "    conv1 = tf.nn.relu(conv1)\n",
    "    conv1 = tf.nn.dropout(conv1, dropout)\n",
    "    conv1 = tf.nn.max_pool(conv1, ksize=[1, 2, 2, 1], strides=[1, 2, 2, 1], padding='VALID')\n",
    "\n",
    "    conv2_W = tf.Variable(tf.truncated_normal(shape=(5, 5, 10, 16), mean = mu, stddev = sigma))\n",
    "    conv2_b = tf.Variable(tf.zeros(16))\n",
    "    conv2   = tf.nn.conv2d(conv1, conv2_W, strides=[1, 1, 1, 1], padding='VALID') + conv2_b\n",
    "    \n",
    "    conv2 = tf.nn.relu(conv2)\n",
    "    conv2 = tf.nn.dropout(conv2, dropout)\n",
    "    conv2 = tf.nn.max_pool(conv2, ksize=[1, 2, 2, 1], strides=[1, 2, 2, 1], padding='VALID')\n",
    "\n",
    "    fc0   = flatten(conv2)\n",
    "    \n",
    "    fc1_W = tf.Variable(tf.truncated_normal(shape=(400, 120), mean = mu, stddev = sigma))\n",
    "    fc1_b = tf.Variable(tf.zeros(120))\n",
    "    fc1   = tf.matmul(fc0, fc1_W) + fc1_b\n",
    "    \n",
    "    fc1    = tf.nn.relu(fc1)\n",
    "    \n",
    "    fc1    = tf.nn.dropout(fc1, dropout)\n",
    "\n",
    "    fc2_W  = tf.Variable(tf.truncated_normal(shape=(120, 84), mean = mu, stddev = sigma))\n",
    "    fc2_b  = tf.Variable(tf.zeros(84))\n",
    "    fc2    = tf.matmul(fc1, fc2_W) + fc2_b\n",
    "    \n",
    "    fc2    = tf.nn.relu(fc2)\n",
    "    \n",
    "    fc2    = tf.nn.dropout(fc2, dropout)\n",
    "\n",
    "    fc3_W  = tf.Variable(tf.truncated_normal(shape=(84, n_classes), mean = mu, stddev = sigma))\n",
    "    fc3_b  = tf.Variable(tf.zeros(n_classes))\n",
    "    logits = tf.matmul(fc2, fc3_W) + fc3_b\n",
    "    \n",
    "    return logits"
   ]
  },
  {
   "cell_type": "markdown",
   "metadata": {},
   "source": [
    "### Question 3\n",
    "\n",
    "_What does your final architecture look like? (Type of model, layers, sizes, connectivity, etc.)  For reference on how to build a deep neural network using TensorFlow, see [Deep Neural Network in TensorFlow\n",
    "](https://classroom.udacity.com/nanodegrees/nd013/parts/fbf77062-5703-404e-b60c-95b78b2f3f9e/modules/6df7ae49-c61c-4bb2-a23e-6527e69209ec/lessons/b516a270-8600-4f93-a0a3-20dfeabe5da6/concepts/83a3a2a2-a9bd-4b7b-95b0-eb924ab14432) from the classroom._\n"
   ]
  },
  {
   "cell_type": "markdown",
   "metadata": {},
   "source": [
    "**Answer:**"
   ]
  },
  {
   "cell_type": "markdown",
   "metadata": {},
   "source": [
    "1. The resulting network is an adaptation of LeNet, with minor changes: increased 1st convolution layer complexity and added dropout regularisation\n",
    "2. Architecture description:\n",
    "\n",
    "3. Input: 32x32x3\n",
    "4. Conv 1: convolutional layer: Input: 32x32x3, Output: 28x28x10\n",
    "5.  Activation 1 : RELU\n",
    "6. Dropout(Activation 1, 0.8)\n",
    "7. Pooling 1: Input: 28x28x10, Output : 14x14x10\n",
    "8. Conv 2: Input 14x14x10, Output : 10x10x16\n",
    "9. Activation 2: RELU\n",
    "10. Dropout(Activation 2, 0.8)\n",
    "11. Pooling 2: Input: 10x10x16, Output: 5x5x16\n",
    "12. Flatten: Input: 5x5x16, Output: 400\n",
    "13. FC 1: fully connected, Input 400, Output: 120\n",
    "14. Activation 3: RELU\n",
    "15. Dropout(Activation 3, 0.8)\n",
    "16. FC 2: Fully connected layer , Input: 120, Output: 84\n",
    "17. Activation 4: RELU\n",
    "18. Dropout(Activation 4, 0.8)\n",
    "19. LOGITS: Fully connected layer: Input: 84, Output: 43 (number of classes)"
   ]
  },
  {
   "cell_type": "code",
   "execution_count": 83,
   "metadata": {
    "collapsed": true
   },
   "outputs": [],
   "source": [
    "### Train your model here.\n",
    "### Feel free to use as many code cells as needed.\n",
    "\n",
    "x = tf.placeholder(tf.float32, (None, image_shape[0], image_shape[1], image_shape[2]))\n",
    "y = tf.placeholder(tf.int32, (None))\n",
    "keep_prob = tf.placeholder(tf.float32)\n",
    "one_hot_y = tf.one_hot(y, n_classes)"
   ]
  },
  {
   "cell_type": "code",
   "execution_count": 86,
   "metadata": {
    "collapsed": false
   },
   "outputs": [],
   "source": [
    "rate = 0.001\n",
    "\n",
    "logits = LeNet(x, keep_prob)\n",
    "cross_entropy = tf.nn.softmax_cross_entropy_with_logits(logits, one_hot_y)\n",
    "loss_operation = tf.reduce_mean(cross_entropy)\n",
    "optimizer = tf.train.AdamOptimizer(learning_rate = rate)\n",
    "training_operation = optimizer.minimize(loss_operation)"
   ]
  },
  {
   "cell_type": "code",
   "execution_count": 87,
   "metadata": {
    "collapsed": true
   },
   "outputs": [],
   "source": [
    "correct_prediction = tf.equal(tf.argmax(logits, 1), tf.argmax(one_hot_y, 1))\n",
    "accuracy_operation = tf.reduce_mean(tf.cast(correct_prediction, tf.float32))\n",
    "saver = tf.train.Saver()\n",
    "\n",
    "def evaluate(X_data, y_data):\n",
    "    num_examples = len(X_data)\n",
    "    total_accuracy = 0\n",
    "    sess = tf.get_default_session()\n",
    "    for offset in range(0, num_examples, BATCH_SIZE):\n",
    "        batch_x, batch_y = X_data[offset:offset+BATCH_SIZE], y_data[offset:offset+BATCH_SIZE]\n",
    "        accuracy = sess.run(accuracy_operation, feed_dict={x: batch_x, y: batch_y, keep_prob: 1.0})\n",
    "        total_accuracy += (accuracy * len(batch_x))\n",
    "    return total_accuracy / num_examples"
   ]
  },
  {
   "cell_type": "code",
   "execution_count": 19,
   "metadata": {
    "collapsed": false
   },
   "outputs": [
    {
     "name": "stdout",
     "output_type": "stream",
     "text": [
      "Training...\n",
      "\n",
      "EPOCH 1 ...\n",
      "Validation Accuracy = 0.180\n",
      "\n",
      "EPOCH 2 ...\n",
      "Validation Accuracy = 0.661\n",
      "\n",
      "EPOCH 3 ...\n",
      "Validation Accuracy = 0.743\n",
      "\n",
      "EPOCH 4 ...\n",
      "Validation Accuracy = 0.806\n",
      "\n",
      "EPOCH 5 ...\n",
      "Validation Accuracy = 0.857\n",
      "\n",
      "EPOCH 6 ...\n",
      "Validation Accuracy = 0.880\n",
      "\n",
      "EPOCH 7 ...\n",
      "Validation Accuracy = 0.910\n",
      "\n",
      "EPOCH 8 ...\n",
      "Validation Accuracy = 0.928\n",
      "\n",
      "EPOCH 9 ...\n",
      "Validation Accuracy = 0.935\n",
      "\n",
      "EPOCH 10 ...\n",
      "Validation Accuracy = 0.946\n",
      "\n",
      "EPOCH 11 ...\n",
      "Validation Accuracy = 0.952\n",
      "\n",
      "EPOCH 12 ...\n",
      "Validation Accuracy = 0.957\n",
      "\n",
      "EPOCH 13 ...\n",
      "Validation Accuracy = 0.958\n",
      "\n",
      "EPOCH 14 ...\n",
      "Validation Accuracy = 0.958\n",
      "\n",
      "EPOCH 15 ...\n",
      "Validation Accuracy = 0.965\n",
      "\n",
      "EPOCH 16 ...\n",
      "Validation Accuracy = 0.965\n",
      "\n",
      "EPOCH 17 ...\n",
      "Validation Accuracy = 0.966\n",
      "\n",
      "EPOCH 18 ...\n",
      "Validation Accuracy = 0.970\n",
      "\n",
      "EPOCH 19 ...\n",
      "Validation Accuracy = 0.970\n",
      "\n",
      "EPOCH 20 ...\n",
      "Validation Accuracy = 0.962\n",
      "\n",
      "EPOCH 21 ...\n",
      "Validation Accuracy = 0.967\n",
      "\n",
      "EPOCH 22 ...\n",
      "Validation Accuracy = 0.958\n",
      "\n",
      "EPOCH 23 ...\n",
      "Validation Accuracy = 0.973\n",
      "\n",
      "EPOCH 24 ...\n",
      "Validation Accuracy = 0.974\n",
      "\n",
      "EPOCH 25 ...\n",
      "Validation Accuracy = 0.956\n",
      "\n",
      "EPOCH 26 ...\n",
      "Validation Accuracy = 0.974\n",
      "\n",
      "EPOCH 27 ...\n",
      "Validation Accuracy = 0.973\n",
      "\n",
      "EPOCH 28 ...\n",
      "Validation Accuracy = 0.977\n",
      "\n",
      "EPOCH 29 ...\n",
      "Validation Accuracy = 0.976\n",
      "\n",
      "EPOCH 30 ...\n",
      "Validation Accuracy = 0.977\n",
      "\n",
      "EPOCH 31 ...\n",
      "Validation Accuracy = 0.978\n",
      "\n",
      "EPOCH 32 ...\n",
      "Validation Accuracy = 0.978\n",
      "\n",
      "EPOCH 33 ...\n",
      "Validation Accuracy = 0.978\n",
      "\n",
      "EPOCH 34 ...\n",
      "Validation Accuracy = 0.974\n",
      "\n",
      "EPOCH 35 ...\n",
      "Validation Accuracy = 0.978\n",
      "\n",
      "EPOCH 36 ...\n",
      "Validation Accuracy = 0.978\n",
      "\n",
      "EPOCH 37 ...\n",
      "Validation Accuracy = 0.976\n",
      "\n",
      "EPOCH 38 ...\n",
      "Validation Accuracy = 0.973\n",
      "\n",
      "EPOCH 39 ...\n",
      "Validation Accuracy = 0.979\n",
      "\n",
      "EPOCH 40 ...\n",
      "Validation Accuracy = 0.978\n",
      "\n",
      "EPOCH 41 ...\n",
      "Validation Accuracy = 0.976\n",
      "\n",
      "EPOCH 42 ...\n",
      "Validation Accuracy = 0.977\n",
      "\n",
      "EPOCH 43 ...\n",
      "Validation Accuracy = 0.982\n",
      "\n",
      "EPOCH 44 ...\n",
      "Validation Accuracy = 0.979\n",
      "\n",
      "EPOCH 45 ...\n",
      "Validation Accuracy = 0.980\n",
      "\n",
      "EPOCH 46 ...\n",
      "Validation Accuracy = 0.981\n",
      "\n",
      "EPOCH 47 ...\n",
      "Validation Accuracy = 0.981\n",
      "\n",
      "EPOCH 48 ...\n",
      "Validation Accuracy = 0.980\n",
      "\n",
      "EPOCH 49 ...\n",
      "Validation Accuracy = 0.977\n",
      "\n",
      "EPOCH 50 ...\n",
      "Validation Accuracy = 0.979\n",
      "\n",
      "EPOCH 51 ...\n",
      "Validation Accuracy = 0.977\n",
      "\n",
      "EPOCH 52 ...\n",
      "Validation Accuracy = 0.983\n",
      "\n",
      "EPOCH 53 ...\n",
      "Validation Accuracy = 0.980\n",
      "\n",
      "EPOCH 54 ...\n",
      "Validation Accuracy = 0.982\n",
      "\n",
      "EPOCH 55 ...\n",
      "Validation Accuracy = 0.983\n",
      "\n",
      "EPOCH 56 ...\n",
      "Validation Accuracy = 0.983\n",
      "\n",
      "EPOCH 57 ...\n",
      "Validation Accuracy = 0.979\n",
      "\n",
      "EPOCH 58 ...\n",
      "Validation Accuracy = 0.982\n",
      "\n",
      "EPOCH 59 ...\n",
      "Validation Accuracy = 0.982\n",
      "\n",
      "EPOCH 60 ...\n",
      "Validation Accuracy = 0.982\n",
      "\n",
      "Model saved\n",
      "Test Accuracy = 0.960\n"
     ]
    }
   ],
   "source": [
    "\n",
    "with tf.Session() as sess:\n",
    "    sess.run(tf.global_variables_initializer())\n",
    "    num_examples = len(XX_train)\n",
    "    \n",
    "    print(\"Training...\")\n",
    "    print()\n",
    "    for i in range(EPOCHS):\n",
    "        XX_train, yy_train = shuffle(XX_train, yy_train)\n",
    "        for offset in range(0, num_examples, BATCH_SIZE):\n",
    "            end = offset + BATCH_SIZE\n",
    "            batch_x, batch_y = XX_train[offset:end], yy_train[offset:end]\n",
    "            sess.run(training_operation, feed_dict={x: batch_x, y: batch_y, keep_prob: 0.8})\n",
    "            \n",
    "        validation_accuracy = evaluate(XX_validation, yy_validation)\n",
    "        print(\"EPOCH {} ...\".format(i+1))\n",
    "        print(\"Validation Accuracy = {:.3f}\".format(validation_accuracy))\n",
    "        print()\n",
    "        \n",
    "    saver.save(sess, 'lenet')\n",
    "    print(\"Model saved\")\n",
    "\n",
    "# testing model on test data set\n",
    "with tf.Session() as sess:\n",
    "    saver.restore(sess, tf.train.latest_checkpoint('.'))\n",
    "\n",
    "    test_accuracy = evaluate(X_test, y_test)\n",
    "    print(\"Test Accuracy = {:.3f}\".format(test_accuracy))"
   ]
  },
  {
   "cell_type": "markdown",
   "metadata": {},
   "source": [
    "### Question 4\n",
    "\n",
    "_How did you train your model? (Type of optimizer, batch size, epochs, hyperparameters, etc.)_\n"
   ]
  },
  {
   "cell_type": "markdown",
   "metadata": {},
   "source": [
    "**Answer:**"
   ]
  },
  {
   "cell_type": "markdown",
   "metadata": {},
   "source": [
    "I had to use GPUs otherwise it was taking forever to complete\n",
    "\n",
    "number (epochs) = 60\n",
    "batch size = 128\n",
    "optimizer = AdamOptimizer\n",
    "learning rate = 0.001\n",
    "dropout keep_probability = 0.8\n"
   ]
  },
  {
   "cell_type": "markdown",
   "metadata": {},
   "source": [
    "### Question 5\n",
    "\n",
    "\n",
    "_What approach did you take in coming up with a solution to this problem? It may have been a process of trial and error, in which case, outline the steps you took to get to the final solution and why you chose those steps. Perhaps your solution involved an already well known implementation or architecture. In this case, discuss why you think this is suitable for the current problem._"
   ]
  },
  {
   "cell_type": "markdown",
   "metadata": {},
   "source": [
    "**Answer:**"
   ]
  },
  {
   "cell_type": "markdown",
   "metadata": {},
   "source": [
    "1. i made sure I can execute basic LeNet code with the input images for this project and measured validation and test accuracy \n",
    "2. i started with the hypothesis that its only the shape of the traffic sign which matters and converted all images to greyscale. then i applied two transformations: Histograms Equalization and adaptive histogram equalization. adaptive histogram equalization was a winner. I understood the importance of local vs global image normalization.\n",
    "3. i tried to investigate whether keeping color is more beneficial than having greyscale image. accuracy showed that color is definitely helpful.\n",
    "4. I read Yann LeCun paper on traffic classification and a couple tutorials where people were metioning adding extra train samples by transforming original images. Once I did that accuracy went up,and i decided to stick with this idea.\n",
    "5. I had to use AWS GPU server to proceed from now on - otherwise it was very slow to do it on my laptop\n",
    "6. I realized i can add only 4 distorted images for one original image, otheriwse i would heve memory problems. Thus i was trying to experiment which distortions help most with accuracy.\n",
    "7. Then i tried different settings with # of epochs and learning rate, and decided on selected values. i did not try that many different values.\n",
    "8. Finally i questioned the parameters of LeNet whether it is sufficientry complex to be able to classify signs. However this was a risky path which may lead to overfitting. Thus i combined 2 steps in one : increased the depth of the first convolution layer and added drop_out regularisation, which further boost accuracy. \n",
    "9. achieved 0.96 accuracy on test data set"
   ]
  },
  {
   "cell_type": "markdown",
   "metadata": {},
   "source": [
    "---\n",
    "\n",
    "## Step 3: Test a Model on New Images\n",
    "\n",
    "Take several pictures of traffic signs that you find on the web or around you (at least five), and run them through your classifier on your computer to produce example results. The classifier might not recognize some local signs but it could prove interesting nonetheless.\n",
    "\n",
    "You may find `signnames.csv` useful as it contains mappings from the class id (integer) to the actual sign name."
   ]
  },
  {
   "cell_type": "markdown",
   "metadata": {},
   "source": [
    "### Implementation\n",
    "\n",
    "Use the code cell (or multiple code cells, if necessary) to implement the first step of your project. Once you have completed your implementation and are satisfied with the results, be sure to thoroughly answer the questions that follow."
   ]
  },
  {
   "cell_type": "code",
   "execution_count": 28,
   "metadata": {
    "collapsed": true
   },
   "outputs": [],
   "source": [
    "##Load the images and plot them here.\n",
    "##Feel free to use as many code cells as needed."
   ]
  },
  {
   "cell_type": "markdown",
   "metadata": {},
   "source": [
    "I m using test images from \n",
    "https://github.com/KonArtist02/CarND-Traffic-Sign-Classifier-Project.git\n",
    "I really appreciate someone in Germany taking photos for this project and uploading them to the class "
   ]
  },
  {
   "cell_type": "code",
   "execution_count": 22,
   "metadata": {
    "collapsed": false
   },
   "outputs": [],
   "source": [
    "new_signs = \"{}/new_signs.p\".format(data_prefix)\n",
    "with open(new_signs, mode='rb') as f:\n",
    "    new_test = pickle.load(f)\n",
    "X_new, y_new = new_test['data'], new_test['labels']"
   ]
  },
  {
   "cell_type": "code",
   "execution_count": 70,
   "metadata": {
    "collapsed": false
   },
   "outputs": [
    {
     "name": "stdout",
     "output_type": "stream",
     "text": [
      "22\n",
      "21\n"
     ]
    },
    {
     "data": {
      "image/png": "[encoded data removed]",
      "text/plain": [
       "<matplotlib.figure.Figure at 0x13843c978>"
      ]
     },
     "metadata": {},
     "output_type": "display_data"
    }
   ],
   "source": [
    "index = random.randint(0, len(X_new))\n",
    "image = X_new[index]\n",
    "plt.imshow(image)\n",
    "print(y_new[index])\n",
    "print(index)"
   ]
  },
  {
   "cell_type": "markdown",
   "metadata": {},
   "source": [
    "### Question 6\n",
    "\n",
    "_Choose five candidate images of traffic signs and provide them in the report. Are there any particular qualities of the image(s) that might make classification difficult? It could be helpful to plot the images in the notebook._\n",
    "\n"
   ]
  },
  {
   "cell_type": "markdown",
   "metadata": {},
   "source": [
    "**Answer:**"
   ]
  },
  {
   "cell_type": "markdown",
   "metadata": {},
   "source": [
    "1. image 1 : it is a bit tilted, most images in the training set are not tilted ( except of those convolved ones I added artificially)\n",
    "2. image 2 : speed sign is a bit different than in training set: it has extra elements like frame lines and distorted word \"zone\" on it, and the actual sign is much smaller than in training data set\n",
    "3. image 3 : stop sign has multiple holes in it\n",
    "4. image 4: the sign is barely visible because of the angle chosen\n",
    "5. image 5: wild animals crossig sign: i do not recall that training data set had a similar looking sign"
   ]
  },
  {
   "cell_type": "code",
   "execution_count": null,
   "metadata": {
    "collapsed": true
   },
   "outputs": [],
   "source": [
    "### Run the predictions here.\n",
    "### Feel free to use as many code cells as needed."
   ]
  },
  {
   "cell_type": "code",
   "execution_count": 72,
   "metadata": {
    "collapsed": false
   },
   "outputs": [
    {
     "data": {
      "image/png": "[encoded data removed]",
      "text/plain": [
       "<matplotlib.figure.Figure at 0x137d84c88>"
      ]
     },
     "metadata": {},
     "output_type": "display_data"
    }
   ],
   "source": [
    "f, (ax1, ax2, ax3, ax4, ax5) = plt.subplots(1, 5)\n",
    "\n",
    "ax1.imshow(X_new[12])\n",
    "ax1.set_title('image 1')\n",
    "ax2.imshow(X_new[8])\n",
    "ax2.set_title('image 2')\n",
    "ax3.imshow(X_new[6])\n",
    "ax3.set_title('image 3')\n",
    "ax4.imshow(X_new[11])\n",
    "ax4.set_title('image 4')\n",
    "ax5.imshow(X_new[13])\n",
    "ax5.set_title('image 5')\n",
    "X_new_id = [12, 8, 6, 11, 13]"
   ]
  },
  {
   "cell_type": "markdown",
   "metadata": {},
   "source": [
    "After visualizing these new images, we can see that these signs are shot in good light with very good focus. the only possible problem i can think of is the background of the image"
   ]
  },
  {
   "cell_type": "code",
   "execution_count": 80,
   "metadata": {
    "collapsed": false
   },
   "outputs": [
    {
     "data": {
      "text/plain": [
       "'there are 29 images in new test dataset'"
      ]
     },
     "execution_count": 80,
     "metadata": {},
     "output_type": "execute_result"
    }
   ],
   "source": [
    "# pre-processing new images in the same way as we did for training and testing\n",
    "XN_new = __set_normalizer(X_new)\n",
    "\"there are {} images in new test dataset\".format(len(X_new))"
   ]
  },
  {
   "cell_type": "code",
   "execution_count": null,
   "metadata": {
    "collapsed": false
   },
   "outputs": [],
   "source": []
  },
  {
   "cell_type": "code",
   "execution_count": 90,
   "metadata": {
    "collapsed": false
   },
   "outputs": [
    {
     "name": "stdout",
     "output_type": "stream",
     "text": [
      "Test Accuracy = 0.800\n"
     ]
    }
   ],
   "source": [
    "X_new_5 = XN_new[X_new_id]\n",
    "y_new_5 = y_new[X_new_id]\n",
    "with tf.Session() as sess:\n",
    "    saver.restore(sess, tf.train.latest_checkpoint('.'))\n",
    "\n",
    "    test_accuracy = evaluate(X_new_5, y_new_5)\n",
    "    print(\"Test Accuracy = {:.3f}\".format(test_accuracy))"
   ]
  },
  {
   "cell_type": "markdown",
   "metadata": {},
   "source": [
    "### Question 7\n",
    "\n",
    "_Is your model able to perform equally well on captured pictures when compared to testing on the dataset? The simplest way to do this check the accuracy of the predictions. For example, if the model predicted 1 out of 5 signs correctly, it's 20% accurate._\n",
    "\n",
    "_**NOTE:** You could check the accuracy manually by using `signnames.csv` (same directory). This file has a mapping from the class id (0-42) to the corresponding sign name. So, you could take the class id the model outputs, lookup the name in `signnames.csv` and see if it matches the sign from the image._\n"
   ]
  },
  {
   "cell_type": "markdown",
   "metadata": {},
   "source": [
    "**Answer:**"
   ]
  },
  {
   "cell_type": "markdown",
   "metadata": {},
   "source": [
    "1. test accuracy (original test data) = 0.965\n",
    "2. test accuracy (5 sample images) = 0.8\n",
    "3. based only on accuracy alone we might be tempted to say that the model is not performing as good on 5 new imags as on the given test data, HOWEVER\n",
    "3. 5 images is a VERY small sample size to draw conclusion about model performance on two data sets. This could have happened by chance. \n",
    "4. more importantly: 5 images covers a small portions of distinct classes of traffic signs ( 43). We do not know how this model will perform on other classes of traffic signs"
   ]
  },
  {
   "cell_type": "code",
   "execution_count": 68,
   "metadata": {
    "collapsed": false
   },
   "outputs": [
    {
     "name": "stdout",
     "output_type": "stream",
     "text": [
      "Speed limit (20km/h)\n",
      "Speed limit (30km/h)\n",
      "Speed limit (50km/h)\n",
      "Speed limit (60km/h)\n",
      "Speed limit (70km/h)\n",
      "Speed limit (80km/h)\n",
      "End of speed limit (80km/h)\n",
      "Speed limit (100km/h)\n",
      "Speed limit (120km/h)\n",
      "No passing\n",
      "No passing for vehicles over 3.5 metric tons\n",
      "Right-of-way at the next intersection\n",
      "Priority road\n",
      "Yield\n",
      "Stop\n",
      "No vehicles\n",
      "Vehicles over 3.5 metric tons prohibited\n",
      "No entry\n",
      "General caution\n",
      "Dangerous curve to the left\n",
      "Dangerous curve to the right\n",
      "Double curve\n",
      "Bumpy road\n",
      "Slippery road\n",
      "Road narrows on the right\n",
      "Road work\n",
      "Traffic signals\n",
      "Pedestrians\n",
      "Children crossing\n",
      "Bicycles crossing\n",
      "Beware of ice/snow\n",
      "Wild animals crossing\n",
      "End of all speed and passing limits\n",
      "Turn right ahead\n",
      "Turn left ahead\n",
      "Ahead only\n",
      "Go straight or right\n",
      "Go straight or left\n",
      "Keep right\n",
      "Keep left\n",
      "Roundabout mandatory\n",
      "End of no passing\n",
      "End of no passing by vehicles over 3.5 metric tons\n"
     ]
    }
   ],
   "source": [
    "### Visualize the softmax probabilities here.\n",
    "### Feel free to use as many code cells as needed.\n",
    "import csv\n",
    "signs = []\n",
    "with open('signnames.csv', 'r') as csvfile:\n",
    "    signnames = csv.reader(csvfile, delimiter=',')\n",
    "    next(signnames,None)\n",
    "    for row in signnames:\n",
    "        signs.append(row[1])\n",
    "    csvfile.close()\n",
    "for sign in signs:\n",
    "    print(sign)"
   ]
  },
  {
   "cell_type": "markdown",
   "metadata": {},
   "source": []
  },
  {
   "cell_type": "code",
   "execution_count": 110,
   "metadata": {
    "collapsed": false
   },
   "outputs": [],
   "source": [
    "softmax = tf.nn.softmax(logits)\n",
    "top_5 = tf.nn.top_k(softmax,5)\n",
    "\n",
    "with tf.Session() as sess:\n",
    "    saver.restore(sess, tf.train.latest_checkpoint('.'))\n",
    "    softmax_p = sess.run(softmax, feed_dict={x: X_new_5, y: y_new_5, keep_prob:1})\n",
    "    top_5_p = sess.run(top_5, feed_dict={x: X_new_5, y: y_new_5, keep_prob:1})"
   ]
  },
  {
   "cell_type": "code",
   "execution_count": null,
   "metadata": {
    "collapsed": false
   },
   "outputs": [],
   "source": []
  },
  {
   "cell_type": "code",
   "execution_count": 109,
   "metadata": {
    "collapsed": false
   },
   "outputs": [
    {
     "data": {
      "text/plain": [
       "(0, 1)"
      ]
     },
     "execution_count": 109,
     "metadata": {},
     "output_type": "execute_result"
    },
    {
     "data": {
      "image/png": "[encoded data removed]",
      "text/plain": [
       "<matplotlib.figure.Figure at 0x121bb0828>"
      ]
     },
     "metadata": {},
     "output_type": "display_data"
    }
   ],
   "source": [
    "f, (ax1, ax2, ax3, ax4, ax5) = plt.subplots(1, 5)\n",
    "\n",
    "ax1.plot(softmax_p[0])\n",
    "ax1.set_title('image 1')\n",
    "ax1.set_ylim([0, 1])\n",
    "ax2.plot(softmax_p[1])\n",
    "ax2.set_title('image 2')\n",
    "ax2.set_ylim([0, 1])\n",
    "ax3.plot(softmax_p[2])\n",
    "ax3.set_title('image 3')\n",
    "ax3.set_ylim([0, 1])\n",
    "ax4.plot(softmax_p[3])\n",
    "ax4.set_title('image 4')\n",
    "ax4.set_ylim([0, 1])\n",
    "ax5.plot(softmax_p[4])\n",
    "ax5.set_title('image 5')\n",
    "ax5.set_ylim([0, 1])"
   ]
  },
  {
   "cell_type": "markdown",
   "metadata": {},
   "source": [
    "### Question 8\n",
    "\n",
    "*Use the model's softmax probabilities to visualize the **certainty** of its predictions, [`tf.nn.top_k`](https://www.tensorflow.org/versions/r0.12/api_docs/python/nn.html#top_k) could prove helpful here. Which predictions is the model certain of? Uncertain? If the model was incorrect in its initial prediction, does the correct prediction appear in the top k? (k should be 5 at most)*\n",
    "\n",
    "`tf.nn.top_k` will return the values and indices (class ids) of the top k predictions. So if k=3, for each sign, it'll return the 3 largest probabilities (out of a possible 43) and the correspoding class ids.\n",
    "\n",
    "Take this numpy array as an example:\n",
    "\n",
    "```\n",
    "# (5, 6) array\n",
    "a = np.array([[ 0.24879643,  0.07032244,  0.12641572,  0.34763842,  0.07893497,\n",
    "         0.12789202],\n",
    "       [ 0.28086119,  0.27569815,  0.08594638,  0.0178669 ,  0.18063401,\n",
    "         0.15899337],\n",
    "       [ 0.26076848,  0.23664738,  0.08020603,  0.07001922,  0.1134371 ,\n",
    "         0.23892179],\n",
    "       [ 0.11943333,  0.29198961,  0.02605103,  0.26234032,  0.1351348 ,\n",
    "         0.16505091],\n",
    "       [ 0.09561176,  0.34396535,  0.0643941 ,  0.16240774,  0.24206137,\n",
    "         0.09155967]])\n",
    "```\n",
    "\n",
    "Running it through `sess.run(tf.nn.top_k(tf.constant(a), k=3))` produces:\n",
    "\n",
    "```\n",
    "TopKV2(values=array([[ 0.34763842,  0.24879643,  0.12789202],\n",
    "       [ 0.28086119,  0.27569815,  0.18063401],\n",
    "       [ 0.26076848,  0.23892179,  0.23664738],\n",
    "       [ 0.29198961,  0.26234032,  0.16505091],\n",
    "       [ 0.34396535,  0.24206137,  0.16240774]]), indices=array([[3, 0, 5],\n",
    "       [0, 1, 4],\n",
    "       [0, 5, 1],\n",
    "       [1, 3, 5],\n",
    "       [1, 4, 3]], dtype=int32))\n",
    "```\n",
    "\n",
    "Looking just at the first row we get `[ 0.34763842,  0.24879643,  0.12789202]`, you can confirm these are the 3 largest probabilities in `a`. You'll also notice `[3, 0, 5]` are the corresponding indices."
   ]
  },
  {
   "cell_type": "markdown",
   "metadata": {},
   "source": [
    "**Answer:**"
   ]
  },
  {
   "cell_type": "markdown",
   "metadata": {},
   "source": [
    "For selected 5 images, 3 of the images the model is very / absolutely certain about which class they belong.\n",
    "For 2 other images , the model is very uncertain - class probability is almost uniform."
   ]
  },
  {
   "cell_type": "code",
   "execution_count": 124,
   "metadata": {
    "collapsed": false
   },
   "outputs": [
    {
     "name": "stdout",
     "output_type": "stream",
     "text": [
      "[[25 22 20 31 24]\n",
      " [25  5 26 38  1]\n",
      " [17 14  9 12 10]\n",
      " [38 40  5 32  3]\n",
      " [31 21 23 19 29]]\n",
      "Image 0 is of class 25\n",
      "Correct class predicted in top 5 : True\n",
      "Image 1 is of class 1\n",
      "Correct class predicted in top 5 : True\n",
      "Image 2 is of class 17\n",
      "Correct class predicted in top 5 : True\n",
      "Image 3 is of class 38\n",
      "Correct class predicted in top 5 : True\n",
      "Image 4 is of class 31\n",
      "Correct class predicted in top 5 : True\n"
     ]
    }
   ],
   "source": [
    "# top_5_p - top 5 predicted classes for those 5 new images\n",
    "y_pred = top_5_p[1]\n",
    "print(y_pred)\n",
    "for i in range(0, 5):\n",
    "    print('Image {} is of class {}'.format(i, y_new_5[i]))\n",
    "    in_top_5 = y_new_5[i] in y_pred[i]\n",
    "    print('Correct class predicted in top 5 : {}'.format(in_top_5))"
   ]
  },
  {
   "cell_type": "markdown",
   "metadata": {},
   "source": [
    "> **Note**: Once you have completed all of the code implementations and successfully answered each question above, you may finalize your work by exporting the iPython Notebook as an HTML document. You can do this by using the menu above and navigating to  \\n\",\n",
    "    \"**File -> Download as -> HTML (.html)**. Include the finished document along with this notebook as your submission."
   ]
  },
  {
   "cell_type": "code",
   "execution_count": null,
   "metadata": {
    "collapsed": true
   },
   "outputs": [],
   "source": []
  }
 ],
 "metadata": {
  "anaconda-cloud": {},
  "kernelspec": {
   "display_name": "Python 3",
   "language": "python",
   "name": "python3"
  },
  "language_info": {
   "codemirror_mode": {
    "name": "ipython",
    "version": 3
   },
   "file_extension": ".py",
   "mimetype": "text/x-python",
   "name": "python",
   "nbconvert_exporter": "python",
   "pygments_lexer": "ipython3",
   "version": "3.5.2"
  },
  "widgets": {
   "state": {},
   "version": "1.1.2"
  }
 },
 "nbformat": 4,
 "nbformat_minor": 1
}
